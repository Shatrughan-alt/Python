{
 "cells": [
  {
   "cell_type": "code",
   "execution_count": 1,
   "metadata": {},
   "outputs": [
    {
     "name": "stdout",
     "output_type": "stream",
     "text": [
      "array('i', [1, 2, 3, 4])\n"
     ]
    }
   ],
   "source": [
    "import array\n",
    "arr=array.array('i',[1,2,3,4])\n",
    "print(arr)"
   ]
  },
  {
   "cell_type": "code",
   "execution_count": 3,
   "metadata": {},
   "outputs": [
    {
     "name": "stdout",
     "output_type": "stream",
     "text": [
      "4.0\n",
      "3.141592653589793\n"
     ]
    }
   ],
   "source": [
    "import math\n",
    "print(math.sqrt(16))\n",
    "print(math.pi)"
   ]
  },
  {
   "cell_type": "code",
   "execution_count": 8,
   "metadata": {},
   "outputs": [
    {
     "name": "stdout",
     "output_type": "stream",
     "text": [
      "8\n",
      "apple\n"
     ]
    }
   ],
   "source": [
    "## Random\n",
    "\n",
    "import random\n",
    "print(random.randint(1,10))\n",
    "print(random.choice(['apple','banana','cherry']))"
   ]
  },
  {
   "cell_type": "code",
   "execution_count": 12,
   "metadata": {},
   "outputs": [
    {
     "name": "stdout",
     "output_type": "stream",
     "text": [
      "c:\\Users\\91630\\Desktop\\Data Analyst Course\\Python\\5-Modules\n",
      "<module 'ntpath' (frozen)>\n",
      "nt\n",
      "environ({'ALLUSERSPROFILE': 'C:\\\\ProgramData', 'AMDRMSDKPATH': 'C:\\\\Program Files\\\\AMD\\\\RyzenMasterSDK\\\\', 'APPDATA': 'C:\\\\Users\\\\91630\\\\AppData\\\\Roaming', 'APPLICATION_INSIGHTS_NO_DIAGNOSTIC_CHANNEL': '1', 'CHROME_CRASHPAD_PIPE_NAME': '\\\\\\\\.\\\\pipe\\\\crashpad_22352_TJVFPYQGMHAOMXGP', 'COMMONPROGRAMFILES': 'C:\\\\Program Files\\\\Common Files', 'COMMONPROGRAMFILES(X86)': 'C:\\\\Program Files (x86)\\\\Common Files', 'COMMONPROGRAMW6432': 'C:\\\\Program Files\\\\Common Files', 'COMPUTERNAME': 'RISHU-VICTUS', 'COMSPEC': 'C:\\\\WINDOWS\\\\system32\\\\cmd.exe', 'CONDA_ALLOW_SOFTLINKS': 'false', 'CONDA_DEFAULT_ENV': 'C:\\\\Users\\\\91630\\\\Desktop\\\\Data Analyst Course\\\\Python\\\\venv', 'CONDA_EXE': 'D:\\\\anaconda3\\\\Scripts\\\\conda.exe', 'CONDA_EXES': '\"D:\\\\anaconda3\\\\condabin\\\\..\\\\Scripts\\\\conda.exe\"  ', 'CONDA_PREFIX': 'C:\\\\Users\\\\91630\\\\Desktop\\\\Data Analyst Course\\\\Python\\\\venv', 'CONDA_PROMPT_MODIFIER': '(C:\\\\Users\\\\91630\\\\Desktop\\\\Data Analyst Course\\\\Python\\\\venv) ', 'CONDA_PYTHON_EXE': 'D:\\\\anaconda3\\\\python.exe', 'CONDA_ROOT': 'D:\\\\anaconda3', 'CONDA_SHLVL': '1', 'DRIVERDATA': 'C:\\\\Windows\\\\System32\\\\Drivers\\\\DriverData', 'EFC_1808': '1', 'ELECTRON_RUN_AS_NODE': '1', 'HOMEDRIVE': 'C:', 'HOMEPATH': '\\\\Users\\\\91630', 'JPY_INTERRUPT_EVENT': '1660', 'LOCALAPPDATA': 'C:\\\\Users\\\\91630\\\\AppData\\\\Local', 'LOGONSERVER': '\\\\\\\\RISHU-VICTUS', 'NUMBER_OF_PROCESSORS': '12', 'ONEDRIVE': 'C:\\\\Users\\\\91630\\\\Documents\\\\OneDrive', 'ONEDRIVECONSUMER': 'C:\\\\Users\\\\91630\\\\Documents\\\\OneDrive', 'ONLINESERVICES': 'Online Services', 'ORIGINAL_XDG_CURRENT_DESKTOP': 'undefined', 'OS': 'Windows_NT', 'PATH': 'c:\\\\Users\\\\91630\\\\Desktop\\\\Data Analyst Course\\\\Python\\\\venv;C:\\\\Users\\\\91630\\\\Desktop\\\\Data Analyst Course\\\\Python\\\\venv;C:\\\\Users\\\\91630\\\\Desktop\\\\Data Analyst Course\\\\Python\\\\venv\\\\Library\\\\mingw-w64\\\\bin;C:\\\\Users\\\\91630\\\\Desktop\\\\Data Analyst Course\\\\Python\\\\venv\\\\Library\\\\usr\\\\bin;C:\\\\Users\\\\91630\\\\Desktop\\\\Data Analyst Course\\\\Python\\\\venv\\\\Library\\\\bin;C:\\\\Users\\\\91630\\\\Desktop\\\\Data Analyst Course\\\\Python\\\\venv\\\\Scripts;C:\\\\Users\\\\91630\\\\Desktop\\\\Data Analyst Course\\\\Python\\\\venv\\\\bin;D:\\\\anaconda3\\\\condabin;C:\\\\Program Files (x86)\\\\Common Files\\\\Oracle\\\\Java\\\\javapath;C:\\\\WINDOWS\\\\system32;C:\\\\WINDOWS;C:\\\\WINDOWS\\\\System32\\\\Wbem;C:\\\\WINDOWS\\\\System32\\\\WindowsPowerShell\\\\v1.0;C:\\\\WINDOWS\\\\System32\\\\OpenSSH;C:\\\\Program Files\\\\Git\\\\cmd;C:\\\\Program Files\\\\nodejs;C:\\\\Program Files\\\\Java\\\\jdk1.8.0_351\\\\bin;C:\\\\Program Files (x86)\\\\Microsoft SQL Server\\\\160\\\\DTS\\\\Binn;D:\\\\anaconda3;D:\\\\anaconda3\\\\Library\\\\mingw-w64\\\\bin;D:\\\\anaconda3\\\\Library\\\\usr\\\\bin;D:\\\\anaconda3\\\\Library\\\\bin;D:\\\\anaconda3\\\\Scripts;C:\\\\Users\\\\91630\\\\anaconda3;C:\\\\Users\\\\91630\\\\anaconda3\\\\Library\\\\mingw-w64\\\\bin;C:\\\\Users\\\\91630\\\\anaconda3\\\\Library\\\\usr\\\\bin;C:\\\\Users\\\\91630\\\\anaconda3\\\\Library\\\\bin;C:\\\\Users\\\\91630\\\\anaconda3\\\\Scripts;C:\\\\Users\\\\91630\\\\AppData\\\\Local\\\\Microsoft\\\\WindowsApps;C:\\\\Users\\\\91630\\\\AppData\\\\Local\\\\Programs\\\\Microsoft VS Code\\\\bin;C:\\\\Users\\\\91630\\\\AppData\\\\Local\\\\Programs\\\\Hyper\\\\resources\\\\bin;C:\\\\Users\\\\91630\\\\AppData\\\\Roaming\\\\npm;C:\\\\Program Files\\\\MongoDB\\\\Server\\\\6.0\\\\bin;C:\\\\mongosh-1.6.1-win32-x64\\\\bin;C:\\\\Program Files\\\\heroku\\\\bin;C:\\\\Users\\\\91630\\\\.nvm', 'PATHEXT': '.COM;.EXE;.BAT;.CMD;.VBS;.VBE;.JS;.JSE;.WSF;.WSH;.MSC', 'PLATFORMCODE': 'M7', 'PROCESSOR_ARCHITECTURE': 'AMD64', 'PROCESSOR_IDENTIFIER': 'AMD64 Family 25 Model 80 Stepping 0, AuthenticAMD', 'PROCESSOR_LEVEL': '25', 'PROCESSOR_REVISION': '5000', 'PROGRAMDATA': 'C:\\\\ProgramData', 'PROGRAMFILES': 'C:\\\\Program Files', 'PROGRAMFILES(X86)': 'C:\\\\Program Files (x86)', 'PROGRAMW6432': 'C:\\\\Program Files', 'PROMPT': '(C:\\\\Users\\\\91630\\\\Desktop\\\\Data Analyst Course\\\\Python\\\\venv) $P$G', 'PSMODULEPATH': 'C:\\\\Program Files\\\\WindowsPowerShell\\\\Modules;C:\\\\WINDOWS\\\\system32\\\\WindowsPowerShell\\\\v1.0\\\\Modules', 'PUBLIC': 'C:\\\\Users\\\\Public', 'PYDEVD_IPYTHON_COMPATIBLE_DEBUGGING': '1', 'PYTHONIOENCODING': 'utf-8', 'PYTHONUNBUFFERED': '1', 'PYTHONUTF8': '1', 'PYTHON_FROZEN_MODULES': 'on', 'REGIONCODE': 'APJ', 'SESSIONNAME': 'Console', 'SSL_CERT_FILE': 'C:\\\\Users\\\\91630\\\\Desktop\\\\Data Analyst Course\\\\Python\\\\venv\\\\Library\\\\ssl\\\\cacert.pem', 'SYSTEMDRIVE': 'C:', 'SYSTEMROOT': 'C:\\\\WINDOWS', 'TEMP': 'C:\\\\Users\\\\91630\\\\AppData\\\\Local\\\\Temp', 'TMP': 'C:\\\\Users\\\\91630\\\\AppData\\\\Local\\\\Temp', 'USERDOMAIN': 'RISHU-VICTUS', 'USERDOMAIN_ROAMINGPROFILE': 'RISHU-VICTUS', 'USERNAME': 'RISHU', 'USERPROFILE': 'C:\\\\Users\\\\91630', 'VSCODE_AMD_ENTRYPOINT': 'vs/workbench/api/node/extensionHostProcess', 'VSCODE_CODE_CACHE_PATH': 'C:\\\\Users\\\\91630\\\\AppData\\\\Roaming\\\\Code\\\\CachedData\\\\38c31bc77e0dd6ae88a4e9cc93428cc27a56ba40', 'VSCODE_CRASH_REPORTER_PROCESS_TYPE': 'extensionHost', 'VSCODE_CWD': 'C:\\\\Users\\\\91630\\\\Desktop', 'VSCODE_HANDLES_UNCAUGHT_ERRORS': 'true', 'VSCODE_IPC_HOOK': '\\\\\\\\.\\\\pipe\\\\18c9884c-1.93.1-main-sock', 'VSCODE_NLS_CONFIG': '{\"userLocale\":\"en-us\",\"osLocale\":\"en-in\",\"resolvedLanguage\":\"en\",\"defaultMessagesFile\":\"C:\\\\\\\\Users\\\\\\\\91630\\\\\\\\AppData\\\\\\\\Local\\\\\\\\Programs\\\\\\\\Microsoft VS Code\\\\\\\\resources\\\\\\\\app\\\\\\\\out\\\\\\\\nls.messages.json\",\"locale\":\"en-us\",\"availableLanguages\":{}}', 'VSCODE_PID': '22352', 'WINDIR': 'C:\\\\WINDOWS', '_CONDA_OLD_CHCP': '437', '__CONDA_OPENSLL_CERT_FILE_SET': '\"1\"', 'PYDEVD_USE_FRAME_EVAL': 'NO', 'TERM': 'xterm-color', 'CLICOLOR': '1', 'FORCE_COLOR': '1', 'CLICOLOR_FORCE': '1', 'PAGER': 'cat', 'GIT_PAGER': 'cat', 'MPLBACKEND': 'module://matplotlib_inline.backend_inline'})\n"
     ]
    }
   ],
   "source": [
    "### File and Directory Access\n",
    "\n",
    "import os\n",
    "print(os.getcwd())\n",
    "print(os.path)\n",
    "print(os.name)\n",
    "print(os.environ)"
   ]
  },
  {
   "cell_type": "code",
   "execution_count": 13,
   "metadata": {},
   "outputs": [],
   "source": [
    "os.mkdir('test_dir')"
   ]
  },
  {
   "cell_type": "code",
   "execution_count": 16,
   "metadata": {},
   "outputs": [
    {
     "data": {
      "text/plain": [
       "'destination.txt'"
      ]
     },
     "execution_count": 16,
     "metadata": {},
     "output_type": "execute_result"
    }
   ],
   "source": [
    "## High level operation on file and collections of files\n",
    "\n",
    "import shutil\n",
    "shutil.copy('source.txt','destination.txt')"
   ]
  },
  {
   "cell_type": "code",
   "execution_count": 18,
   "metadata": {},
   "outputs": [
    {
     "name": "stdout",
     "output_type": "stream",
     "text": [
      "{\"name\": \"shatru\", \"age\": 21}\n",
      "<class 'str'>\n",
      "{'name': 'shatru', 'age': 21}\n",
      "<class 'dict'>\n"
     ]
    }
   ],
   "source": [
    "## Data Serialization\n",
    "\n",
    "import json\n",
    "data={'name':'shatru','age':21}\n",
    "\n",
    "json_str=json.dumps(data)\n",
    "print(json_str)\n",
    "print(type(json_str))\n",
    "\n",
    "parsed_data=json.loads(json_str)\n",
    "print(parsed_data)\n",
    "print(type(parsed_data))"
   ]
  },
  {
   "cell_type": "code",
   "execution_count": 19,
   "metadata": {},
   "outputs": [
    {
     "name": "stdout",
     "output_type": "stream",
     "text": [
      "['name', 'age']\n",
      "['Shatru', '21']\n"
     ]
    }
   ],
   "source": [
    "## csv\n",
    "\n",
    "import csv\n",
    "\n",
    "with open('example.csv',mode='w',newline='') as file:\n",
    "    writer=csv.writer(file)\n",
    "    writer.writerow(['name','age'])\n",
    "    writer.writerow(['Shatru',21])\n",
    "\n",
    "with open('example.csv',mode='r') as file:\n",
    "    reader=csv.reader(file)\n",
    "    for row in reader:\n",
    "        print(row)"
   ]
  },
  {
   "cell_type": "code",
   "execution_count": 20,
   "metadata": {},
   "outputs": [
    {
     "name": "stdout",
     "output_type": "stream",
     "text": [
      "2024-09-22 22:07:46.991326\n",
      "2024-09-21 22:07:46.991326\n"
     ]
    }
   ],
   "source": [
    "## DateTime\n",
    "\n",
    "from datetime import datetime,timedelta\n",
    "\n",
    "now=datetime.now()\n",
    "print(now)\n",
    "\n",
    "# Yesterday\n",
    "yesterday=now-timedelta(days=1)\n",
    "print(yesterday)"
   ]
  },
  {
   "cell_type": "code",
   "execution_count": 22,
   "metadata": {},
   "outputs": [
    {
     "name": "stdout",
     "output_type": "stream",
     "text": [
      "1727023189.9430811\n",
      "1727023191.944136\n"
     ]
    }
   ],
   "source": [
    "## time\n",
    "\n",
    "import time\n",
    "print(time.time())\n",
    "time.sleep(2)\n",
    "print(time.time())"
   ]
  },
  {
   "cell_type": "code",
   "execution_count": 28,
   "metadata": {},
   "outputs": [
    {
     "name": "stdout",
     "output_type": "stream",
     "text": [
      "123\n"
     ]
    }
   ],
   "source": [
    "## Regular Expression\n",
    "\n",
    "import re\n",
    "\n",
    "pattern = r'\\d+'\n",
    "text = 'There are 123 apples 456'\n",
    "match = re.search(pattern, text) \n",
    "print(match.group())"
   ]
  },
  {
   "cell_type": "code",
   "execution_count": null,
   "metadata": {},
   "outputs": [],
   "source": []
  }
 ],
 "metadata": {
  "kernelspec": {
   "display_name": "Python 3",
   "language": "python",
   "name": "python3"
  },
  "language_info": {
   "codemirror_mode": {
    "name": "ipython",
    "version": 3
   },
   "file_extension": ".py",
   "mimetype": "text/x-python",
   "name": "python",
   "nbconvert_exporter": "python",
   "pygments_lexer": "ipython3",
   "version": "3.12.0"
  }
 },
 "nbformat": 4,
 "nbformat_minor": 2
}
